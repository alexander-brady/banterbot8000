{
 "cells": [
  {
   "cell_type": "markdown",
   "metadata": {},
   "source": [
    "# Chat with BanterBot8000\n",
    "\n",
    "Run the first cell to initialize BanterBot8000, and then have fun chatting below!"
   ]
  },
  {
   "cell_type": "code",
   "execution_count": 7,
   "metadata": {},
   "outputs": [
    {
     "data": {
      "text/html": [
       "<pre style='margin: 0px; padding: 0px; vertical-align: middle; padding-left: 8px; margin-left: -8px; border-radius: 0px; border-left: 1px solid rgba(127, 127, 127, 0.2); white-space: pre-wrap; font-family: ColfaxAI, Arial; font-size: 15px; line-height: 23px;'><div style='display: flex; border-bottom: 1px solid rgba(127, 127, 127, 0.2);  justify-content: center; align-items: center;'><div style='flex: 0 0 80px; opacity: 0.5;'>system</div><div style='flex-grow: 1; padding: 5px; padding-top: 10px; padding-bottom: 10px; margin-top: 0px; white-space: pre-wrap; margin-bottom: 0px;'>You are BanterBot 8000. You are goofy and love to tell jokes. You are humorous and concise.</div></div></pre>"
      ],
      "text/plain": [
       "<IPython.core.display.HTML object>"
      ]
     },
     "metadata": {},
     "output_type": "display_data"
    }
   ],
   "source": [
    "from src import init_llm, banter\n",
    "from guidance import assistant, user\n",
    "from time import sleep\n",
    "\n",
    "llm = init_llm()"
   ]
  },
  {
   "cell_type": "markdown",
   "metadata": {},
   "source": [
    "<div style=\"display: flex; align-items: top;\">\n",
    "  <img src=\"banterbot8000.png\" alt=\"BanterBot8000\" width=\"80\" style=\"margin-right: 20px;\">\n",
    "  <p>Chat with BanterBot8000! He's quite the funny fellow! Run the below code to begin. Say \"bye\" at any time to quit. </p>\n",
    "</div>"
   ]
  },
  {
   "cell_type": "code",
   "execution_count": 2,
   "metadata": {},
   "outputs": [
    {
     "data": {
      "text/html": [
       "<pre style='margin: 0px; padding: 0px; vertical-align: middle; padding-left: 8px; margin-left: -8px; border-radius: 0px; border-left: 1px solid rgba(127, 127, 127, 0.2); white-space: pre-wrap; font-family: ColfaxAI, Arial; font-size: 15px; line-height: 23px;'><div style='display: flex; border-bottom: 1px solid rgba(127, 127, 127, 0.2);  justify-content: center; align-items: center;'><div style='flex: 0 0 80px; opacity: 0.5;'>system</div><div style='flex-grow: 1; padding: 5px; padding-top: 10px; padding-bottom: 10px; margin-top: 0px; white-space: pre-wrap; margin-bottom: 0px;'>You are BanterBot 8000. You are goofy and love to tell jokes. You are humorous and concise.</div></div><div style='display: flex; border-bottom: 1px solid rgba(127, 127, 127, 0.2);  justify-content: center; align-items: center;'><div style='flex: 0 0 80px; opacity: 0.5;'>assistant</div><div style='flex-grow: 1; padding: 5px; padding-top: 10px; padding-bottom: 10px; margin-top: 0px; white-space: pre-wrap; margin-bottom: 0px;'>Hi there! Have a joke you want me to explain? Or just here for a laugh?</div></div><div style='display: flex; border-bottom: 1px solid rgba(127, 127, 127, 0.2);  justify-content: center; align-items: center;'><div style='flex: 0 0 80px; opacity: 0.5;'>user</div><div style='flex-grow: 1; padding: 5px; padding-top: 10px; padding-bottom: 10px; margin-top: 0px; white-space: pre-wrap; margin-bottom: 0px;'>Why couldn&#x27;t the bicycle stand up by itself? Because it was two-tired!</div></div><div style='display: flex; border-bottom: 1px solid rgba(127, 127, 127, 0.2);  justify-content: center; align-items: center;'><div style='flex: 0 0 80px; opacity: 0.5;'>system</div><div style='flex-grow: 1; padding: 5px; padding-top: 10px; padding-bottom: 10px; margin-top: 0px; white-space: pre-wrap; margin-bottom: 0px;'>Explain the humor in the joke or pun.</div></div><div style='display: flex; border-bottom: 1px solid rgba(127, 127, 127, 0.2);  justify-content: center; align-items: center;'><div style='flex: 0 0 80px; opacity: 0.5;'>assistant</div><div style='flex-grow: 1; padding: 5px; padding-top: 10px; padding-bottom: 10px; margin-top: 0px; white-space: pre-wrap; margin-bottom: 0px;'><span style='background-color: rgba(0.0, 165.0, 0, 0.15); border-radius: 3px;' title='1.0'>A</span><span style='background-color: rgba(0.0, 165.0, 0, 0.15); border-radius: 3px;' title='1.0'> classic</span><span style='background-color: rgba(0.0, 165.0, 0, 0.15); border-radius: 3px;' title='1.0'> one</span><span style='background-color: rgba(0.0, 165.0, 0, 0.15); border-radius: 3px;' title='1.0'>!\n",
       "\n",
       "</span><span style='background-color: rgba(0.0, 165.0, 0, 0.15); border-radius: 3px;' title='1.0'>The</span><span style='background-color: rgba(0.0, 165.0, 0, 0.15); border-radius: 3px;' title='1.0'> humor</span><span style='background-color: rgba(0.0, 165.0, 0, 0.15); border-radius: 3px;' title='1.0'> in</span><span style='background-color: rgba(0.0, 165.0, 0, 0.15); border-radius: 3px;' title='1.0'> this</span><span style='background-color: rgba(0.0, 165.0, 0, 0.15); border-radius: 3px;' title='1.0'> joke</span><span style='background-color: rgba(0.0, 165.0, 0, 0.15); border-radius: 3px;' title='1.0'> comes</span><span style='background-color: rgba(0.0, 165.0, 0, 0.15); border-radius: 3px;' title='1.0'> from</span><span style='background-color: rgba(0.0, 165.0, 0, 0.15); border-radius: 3px;' title='1.0'> a</span><span style='background-color: rgba(0.0, 165.0, 0, 0.15); border-radius: 3px;' title='1.0'> play</span><span style='background-color: rgba(0.0, 165.0, 0, 0.15); border-radius: 3px;' title='1.0'> on</span><span style='background-color: rgba(0.0, 165.0, 0, 0.15); border-radius: 3px;' title='1.0'> words</span><span style='background-color: rgba(0.0, 165.0, 0, 0.15); border-radius: 3px;' title='1.0'>.</span><span style='background-color: rgba(0.0, 165.0, 0, 0.15); border-radius: 3px;' title='1.0'> &quot;</span><span style='background-color: rgba(0.0, 165.0, 0, 0.15); border-radius: 3px;' title='1.0'>Two</span><span style='background-color: rgba(0.0, 165.0, 0, 0.15); border-radius: 3px;' title='1.0'>-t</span><span style='background-color: rgba(0.0, 165.0, 0, 0.15); border-radius: 3px;' title='1.0'>ired</span><span style='background-color: rgba(0.0, 165.0, 0, 0.15); border-radius: 3px;' title='1.0'>&quot;</span><span style='background-color: rgba(0.0, 165.0, 0, 0.15); border-radius: 3px;' title='1.0'> has</span><span style='background-color: rgba(0.0, 165.0, 0, 0.15); border-radius: 3px;' title='1.0'> a</span><span style='background-color: rgba(0.0, 165.0, 0, 0.15); border-radius: 3px;' title='1.0'> double</span><span style='background-color: rgba(0.0, 165.0, 0, 0.15); border-radius: 3px;' title='1.0'> meaning</span><span style='background-color: rgba(0.0, 165.0, 0, 0.15); border-radius: 3px;' title='1.0'> here</span><span style='background-color: rgba(0.0, 165.0, 0, 0.15); border-radius: 3px;' title='1.0'>:\n",
       "\n",
       "</span><span style='background-color: rgba(0.0, 165.0, 0, 0.15); border-radius: 3px;' title='1.0'>1</span><span style='background-color: rgba(0.0, 165.0, 0, 0.15); border-radius: 3px;' title='1.0'>.</span><span style='background-color: rgba(0.0, 165.0, 0, 0.15); border-radius: 3px;' title='1.0'> A</span><span style='background-color: rgba(0.0, 165.0, 0, 0.15); border-radius: 3px;' title='1.0'></div></div></pre>"
      ],
      "text/plain": [
       "<IPython.core.display.HTML object>"
      ]
     },
     "metadata": {},
     "output_type": "display_data"
    },
    {
     "ename": "KeyboardInterrupt",
     "evalue": "",
     "output_type": "error",
     "traceback": [
      "\u001b[1;31m---------------------------------------------------------------------------\u001b[0m",
      "\u001b[1;31mKeyboardInterrupt\u001b[0m                         Traceback (most recent call last)",
      "Cell \u001b[1;32mIn[2], line 13\u001b[0m\n\u001b[0;32m     10\u001b[0m \u001b[38;5;28;01mwith\u001b[39;00m user():\n\u001b[0;32m     11\u001b[0m     banterbot8000 \u001b[38;5;241m+\u001b[39m\u001b[38;5;241m=\u001b[39m user_input\n\u001b[1;32m---> 13\u001b[0m banterbot8000 \u001b[38;5;241m+\u001b[39m\u001b[38;5;241m=\u001b[39m banter(user_input)\n\u001b[0;32m     15\u001b[0m sleep(\u001b[38;5;241m1\u001b[39m)\n",
      "File \u001b[1;32mc:\\Users\\alexj\\polybox\\Master\\Semester 1\\Natural Language Technologies\\Project 2\\BanterBot8000\\venv\\lib\\site-packages\\guidance\\models\\_model.py:1159\u001b[0m, in \u001b[0;36mModel.__add__\u001b[1;34m(self, value)\u001b[0m\n\u001b[0;32m   1155\u001b[0m     out \u001b[38;5;241m=\u001b[39m lm\u001b[38;5;241m.\u001b[39m_run_stateless(value)\n\u001b[0;32m   1157\u001b[0m \u001b[38;5;66;03m# run stateful functions\u001b[39;00m\n\u001b[0;32m   1158\u001b[0m \u001b[38;5;28;01melse\u001b[39;00m:\n\u001b[1;32m-> 1159\u001b[0m     out \u001b[38;5;241m=\u001b[39m \u001b[43mvalue\u001b[49m\u001b[43m(\u001b[49m\u001b[43mlm\u001b[49m\u001b[43m)\u001b[49m\n\u001b[0;32m   1160\u001b[0m     \u001b[38;5;28;01mif\u001b[39;00m out \u001b[38;5;129;01mis\u001b[39;00m \u001b[38;5;28;01mNone\u001b[39;00m:\n\u001b[0;32m   1161\u001b[0m         \u001b[38;5;28;01mraise\u001b[39;00m \u001b[38;5;167;01mException\u001b[39;00m(\n\u001b[0;32m   1162\u001b[0m             \u001b[38;5;124mf\u001b[39m\u001b[38;5;124m\"\u001b[39m\u001b[38;5;124mA guidance function returned `None`, not a model object! Did you forget to return the new lm at the end of your function?\u001b[39m\u001b[38;5;124m\"\u001b[39m\n\u001b[0;32m   1163\u001b[0m         )\n",
      "File \u001b[1;32mc:\\Users\\alexj\\polybox\\Master\\Semester 1\\Natural Language Technologies\\Project 2\\BanterBot8000\\venv\\lib\\site-packages\\guidance\\_grammar.py:69\u001b[0m, in \u001b[0;36mRawFunction.__call__\u001b[1;34m(self, model)\u001b[0m\n\u001b[0;32m     68\u001b[0m \u001b[38;5;28;01mdef\u001b[39;00m \u001b[38;5;21m__call__\u001b[39m(\u001b[38;5;28mself\u001b[39m, model):\n\u001b[1;32m---> 69\u001b[0m     \u001b[38;5;28;01mreturn\u001b[39;00m \u001b[38;5;28mself\u001b[39m\u001b[38;5;241m.\u001b[39mf(model, \u001b[38;5;241m*\u001b[39m\u001b[38;5;28mself\u001b[39m\u001b[38;5;241m.\u001b[39margs, \u001b[38;5;241m*\u001b[39m\u001b[38;5;241m*\u001b[39m\u001b[38;5;28mself\u001b[39m\u001b[38;5;241m.\u001b[39mkwargs)\n",
      "File \u001b[1;32mc:\\Users\\alexj\\polybox\\Master\\Semester 1\\Natural Language Technologies\\Project 2\\BanterBot8000\\src\\llm.py:147\u001b[0m, in \u001b[0;36mbanter\u001b[1;34m(lm, user_input)\u001b[0m\n\u001b[0;32m    145\u001b[0m                 \u001b[38;5;28;01mreturn\u001b[39;00m lm \u001b[38;5;241m+\u001b[39m handle_homophone(pun)\n\u001b[0;32m    146\u001b[0m             \u001b[38;5;28;01melse\u001b[39;00m:\n\u001b[1;32m--> 147\u001b[0m                 \u001b[38;5;28;01mreturn\u001b[39;00m lm \u001b[38;5;241m+\u001b[39m handle_homograph(pun)\n\u001b[0;32m    149\u001b[0m     \u001b[38;5;28;01mreturn\u001b[39;00m lm \u001b[38;5;241m+\u001b[39m explain_pun()\n\u001b[0;32m    151\u001b[0m \u001b[38;5;28;01mwith\u001b[39;00m assistant():\n",
      "File \u001b[1;32mc:\\Users\\alexj\\polybox\\Master\\Semester 1\\Natural Language Technologies\\Project 2\\BanterBot8000\\venv\\lib\\site-packages\\guidance\\models\\_model.py:1159\u001b[0m, in \u001b[0;36mModel.__add__\u001b[1;34m(self, value)\u001b[0m\n\u001b[0;32m   1155\u001b[0m     out \u001b[38;5;241m=\u001b[39m lm\u001b[38;5;241m.\u001b[39m_run_stateless(value)\n\u001b[0;32m   1157\u001b[0m \u001b[38;5;66;03m# run stateful functions\u001b[39;00m\n\u001b[0;32m   1158\u001b[0m \u001b[38;5;28;01melse\u001b[39;00m:\n\u001b[1;32m-> 1159\u001b[0m     out \u001b[38;5;241m=\u001b[39m \u001b[43mvalue\u001b[49m\u001b[43m(\u001b[49m\u001b[43mlm\u001b[49m\u001b[43m)\u001b[49m\n\u001b[0;32m   1160\u001b[0m     \u001b[38;5;28;01mif\u001b[39;00m out \u001b[38;5;129;01mis\u001b[39;00m \u001b[38;5;28;01mNone\u001b[39;00m:\n\u001b[0;32m   1161\u001b[0m         \u001b[38;5;28;01mraise\u001b[39;00m \u001b[38;5;167;01mException\u001b[39;00m(\n\u001b[0;32m   1162\u001b[0m             \u001b[38;5;124mf\u001b[39m\u001b[38;5;124m\"\u001b[39m\u001b[38;5;124mA guidance function returned `None`, not a model object! Did you forget to return the new lm at the end of your function?\u001b[39m\u001b[38;5;124m\"\u001b[39m\n\u001b[0;32m   1163\u001b[0m         )\n",
      "File \u001b[1;32mc:\\Users\\alexj\\polybox\\Master\\Semester 1\\Natural Language Technologies\\Project 2\\BanterBot8000\\venv\\lib\\site-packages\\guidance\\_grammar.py:69\u001b[0m, in \u001b[0;36mRawFunction.__call__\u001b[1;34m(self, model)\u001b[0m\n\u001b[0;32m     68\u001b[0m \u001b[38;5;28;01mdef\u001b[39;00m \u001b[38;5;21m__call__\u001b[39m(\u001b[38;5;28mself\u001b[39m, model):\n\u001b[1;32m---> 69\u001b[0m     \u001b[38;5;28;01mreturn\u001b[39;00m \u001b[38;5;28mself\u001b[39m\u001b[38;5;241m.\u001b[39mf(model, \u001b[38;5;241m*\u001b[39m\u001b[38;5;28mself\u001b[39m\u001b[38;5;241m.\u001b[39margs, \u001b[38;5;241m*\u001b[39m\u001b[38;5;241m*\u001b[39m\u001b[38;5;28mself\u001b[39m\u001b[38;5;241m.\u001b[39mkwargs)\n",
      "File \u001b[1;32mc:\\Users\\alexj\\polybox\\Master\\Semester 1\\Natural Language Technologies\\Project 2\\BanterBot8000\\src\\llm.py:61\u001b[0m, in \u001b[0;36mhandle_homograph\u001b[1;34m(lm, pun)\u001b[0m\n\u001b[0;32m     58\u001b[0m definitions \u001b[38;5;241m=\u001b[39m [s\u001b[38;5;241m.\u001b[39mdefinition() \u001b[38;5;28;01mfor\u001b[39;00m s \u001b[38;5;129;01min\u001b[39;00m synset]\n\u001b[0;32m     60\u001b[0m \u001b[38;5;28;01mif\u001b[39;00m \u001b[38;5;28mlen\u001b[39m(definitions) \u001b[38;5;241m<\u001b[39m \u001b[38;5;241m2\u001b[39m:\n\u001b[1;32m---> 61\u001b[0m     \u001b[38;5;28;01mreturn\u001b[39;00m lm \u001b[38;5;241m+\u001b[39m explain_pun()\n\u001b[0;32m     63\u001b[0m \u001b[38;5;28;01melif\u001b[39;00m \u001b[38;5;28mlen\u001b[39m(definitions) \u001b[38;5;241m==\u001b[39m \u001b[38;5;241m2\u001b[39m:\n\u001b[0;32m     64\u001b[0m     def1, def2 \u001b[38;5;241m=\u001b[39m definitions\n",
      "File \u001b[1;32mc:\\Users\\alexj\\polybox\\Master\\Semester 1\\Natural Language Technologies\\Project 2\\BanterBot8000\\venv\\lib\\site-packages\\guidance\\models\\_model.py:1159\u001b[0m, in \u001b[0;36mModel.__add__\u001b[1;34m(self, value)\u001b[0m\n\u001b[0;32m   1155\u001b[0m     out \u001b[38;5;241m=\u001b[39m lm\u001b[38;5;241m.\u001b[39m_run_stateless(value)\n\u001b[0;32m   1157\u001b[0m \u001b[38;5;66;03m# run stateful functions\u001b[39;00m\n\u001b[0;32m   1158\u001b[0m \u001b[38;5;28;01melse\u001b[39;00m:\n\u001b[1;32m-> 1159\u001b[0m     out \u001b[38;5;241m=\u001b[39m \u001b[43mvalue\u001b[49m\u001b[43m(\u001b[49m\u001b[43mlm\u001b[49m\u001b[43m)\u001b[49m\n\u001b[0;32m   1160\u001b[0m     \u001b[38;5;28;01mif\u001b[39;00m out \u001b[38;5;129;01mis\u001b[39;00m \u001b[38;5;28;01mNone\u001b[39;00m:\n\u001b[0;32m   1161\u001b[0m         \u001b[38;5;28;01mraise\u001b[39;00m \u001b[38;5;167;01mException\u001b[39;00m(\n\u001b[0;32m   1162\u001b[0m             \u001b[38;5;124mf\u001b[39m\u001b[38;5;124m\"\u001b[39m\u001b[38;5;124mA guidance function returned `None`, not a model object! Did you forget to return the new lm at the end of your function?\u001b[39m\u001b[38;5;124m\"\u001b[39m\n\u001b[0;32m   1163\u001b[0m         )\n",
      "File \u001b[1;32mc:\\Users\\alexj\\polybox\\Master\\Semester 1\\Natural Language Technologies\\Project 2\\BanterBot8000\\venv\\lib\\site-packages\\guidance\\_grammar.py:69\u001b[0m, in \u001b[0;36mRawFunction.__call__\u001b[1;34m(self, model)\u001b[0m\n\u001b[0;32m     68\u001b[0m \u001b[38;5;28;01mdef\u001b[39;00m \u001b[38;5;21m__call__\u001b[39m(\u001b[38;5;28mself\u001b[39m, model):\n\u001b[1;32m---> 69\u001b[0m     \u001b[38;5;28;01mreturn\u001b[39;00m \u001b[38;5;28mself\u001b[39m\u001b[38;5;241m.\u001b[39mf(model, \u001b[38;5;241m*\u001b[39m\u001b[38;5;28mself\u001b[39m\u001b[38;5;241m.\u001b[39margs, \u001b[38;5;241m*\u001b[39m\u001b[38;5;241m*\u001b[39m\u001b[38;5;28mself\u001b[39m\u001b[38;5;241m.\u001b[39mkwargs)\n",
      "File \u001b[1;32mc:\\Users\\alexj\\polybox\\Master\\Semester 1\\Natural Language Technologies\\Project 2\\BanterBot8000\\src\\llm.py:47\u001b[0m, in \u001b[0;36mexplain_pun\u001b[1;34m(lm)\u001b[0m\n\u001b[0;32m     45\u001b[0m     llm \u001b[38;5;241m=\u001b[39m lm \u001b[38;5;241m+\u001b[39m prompts[\u001b[38;5;124m'\u001b[39m\u001b[38;5;124mexplain_pun\u001b[39m\u001b[38;5;124m'\u001b[39m]\n\u001b[0;32m     46\u001b[0m \u001b[38;5;28;01mwith\u001b[39;00m assistant():\n\u001b[1;32m---> 47\u001b[0m     llm \u001b[38;5;241m+\u001b[39m\u001b[38;5;241m=\u001b[39m gen(\u001b[38;5;124m'\u001b[39m\u001b[38;5;124mexplain_pun\u001b[39m\u001b[38;5;124m'\u001b[39m)\n\u001b[0;32m     48\u001b[0m     \u001b[38;5;28;01mif\u001b[39;00m \u001b[38;5;124m'\u001b[39m\u001b[38;5;124mexplain_pun\u001b[39m\u001b[38;5;124m'\u001b[39m \u001b[38;5;129;01min\u001b[39;00m llm:\n\u001b[0;32m     49\u001b[0m         \u001b[38;5;28;01mreturn\u001b[39;00m lm \u001b[38;5;241m+\u001b[39m llm[\u001b[38;5;124m'\u001b[39m\u001b[38;5;124mexplain_pun\u001b[39m\u001b[38;5;124m'\u001b[39m]\n",
      "File \u001b[1;32mc:\\Users\\alexj\\polybox\\Master\\Semester 1\\Natural Language Technologies\\Project 2\\BanterBot8000\\venv\\lib\\site-packages\\guidance\\models\\_model.py:1155\u001b[0m, in \u001b[0;36mModel.__add__\u001b[1;34m(self, value)\u001b[0m\n\u001b[0;32m   1153\u001b[0m \u001b[38;5;66;03m# run stateless functions (grammar nodes)\u001b[39;00m\n\u001b[0;32m   1154\u001b[0m \u001b[38;5;28;01melif\u001b[39;00m \u001b[38;5;28misinstance\u001b[39m(value, GrammarFunction):\n\u001b[1;32m-> 1155\u001b[0m     out \u001b[38;5;241m=\u001b[39m \u001b[43mlm\u001b[49m\u001b[38;5;241;43m.\u001b[39;49m\u001b[43m_run_stateless\u001b[49m\u001b[43m(\u001b[49m\u001b[43mvalue\u001b[49m\u001b[43m)\u001b[49m\n\u001b[0;32m   1157\u001b[0m \u001b[38;5;66;03m# run stateful functions\u001b[39;00m\n\u001b[0;32m   1158\u001b[0m \u001b[38;5;28;01melse\u001b[39;00m:\n\u001b[0;32m   1159\u001b[0m     out \u001b[38;5;241m=\u001b[39m value(lm)\n",
      "File \u001b[1;32mc:\\Users\\alexj\\polybox\\Master\\Semester 1\\Natural Language Technologies\\Project 2\\BanterBot8000\\venv\\lib\\site-packages\\guidance\\models\\_model.py:1361\u001b[0m, in \u001b[0;36mModel._run_stateless\u001b[1;34m(self, stateless_function, temperature, top_p, n)\u001b[0m\n\u001b[0;32m   1359\u001b[0m delayed_bytes \u001b[38;5;241m=\u001b[39m \u001b[38;5;124mb\u001b[39m\u001b[38;5;124m\"\u001b[39m\u001b[38;5;124m\"\u001b[39m\n\u001b[0;32m   1360\u001b[0m \u001b[38;5;66;03m# last_is_generated = False\u001b[39;00m\n\u001b[1;32m-> 1361\u001b[0m \u001b[38;5;28;01mfor\u001b[39;00m chunk \u001b[38;5;129;01min\u001b[39;00m gen_obj:\n\u001b[0;32m   1362\u001b[0m \n\u001b[0;32m   1363\u001b[0m     \u001b[38;5;66;03m# we make everything full probability if we are not computing uncertainty\u001b[39;00m\n\u001b[0;32m   1364\u001b[0m     \u001b[38;5;66;03m# if not self.engine.compute_log_probs:\u001b[39;00m\n\u001b[0;32m   1365\u001b[0m     \u001b[38;5;66;03m#     chunk.new_bytes_prob = 1.0\u001b[39;00m\n\u001b[0;32m   1366\u001b[0m \n\u001b[0;32m   1367\u001b[0m     \u001b[38;5;66;03m# convert the bytes to a string (delaying if we don't yet have a valid unicode string)\u001b[39;00m\n\u001b[0;32m   1368\u001b[0m     lm\u001b[38;5;241m.\u001b[39mtoken_count \u001b[38;5;241m+\u001b[39m\u001b[38;5;241m=\u001b[39m chunk\u001b[38;5;241m.\u001b[39mnew_token_count\n\u001b[0;32m   1369\u001b[0m     chunk\u001b[38;5;241m.\u001b[39mnew_bytes \u001b[38;5;241m=\u001b[39m delayed_bytes \u001b[38;5;241m+\u001b[39m chunk\u001b[38;5;241m.\u001b[39mnew_bytes\n",
      "File \u001b[1;32mc:\\Users\\alexj\\polybox\\Master\\Semester 1\\Natural Language Technologies\\Project 2\\BanterBot8000\\venv\\lib\\site-packages\\guidance\\models\\_model.py:752\u001b[0m, in \u001b[0;36mEngine.__call__\u001b[1;34m(self, parser, grammar, ensure_bos_token)\u001b[0m\n\u001b[0;32m    750\u001b[0m \u001b[38;5;28;01mif\u001b[39;00m logits_state \u001b[38;5;129;01mis\u001b[39;00m \u001b[38;5;129;01mnot\u001b[39;00m \u001b[38;5;28;01mNone\u001b[39;00m:\n\u001b[0;32m    751\u001b[0m     token_ids, forced_bytes, current_temp \u001b[38;5;241m=\u001b[39m logits_state\n\u001b[1;32m--> 752\u001b[0m     logits \u001b[38;5;241m=\u001b[39m \u001b[38;5;28;43mself\u001b[39;49m\u001b[38;5;241;43m.\u001b[39;49m\u001b[43mget_logits\u001b[49m\u001b[43m(\u001b[49m\u001b[43mtoken_ids\u001b[49m\u001b[43m,\u001b[49m\u001b[43m \u001b[49m\u001b[43mforced_bytes\u001b[49m\u001b[43m,\u001b[49m\u001b[43m \u001b[49m\u001b[43mcurrent_temp\u001b[49m\u001b[43m)\u001b[49m\n\u001b[0;32m    754\u001b[0m \u001b[38;5;28;01mif\u001b[39;00m is_done:\n\u001b[0;32m    755\u001b[0m     \u001b[38;5;28;01mbreak\u001b[39;00m\n",
      "File \u001b[1;32mc:\\Users\\alexj\\polybox\\Master\\Semester 1\\Natural Language Technologies\\Project 2\\BanterBot8000\\venv\\lib\\site-packages\\guidance\\models\\llama_cpp\\_llama_cpp.py:203\u001b[0m, in \u001b[0;36mLlamaCppEngine.get_logits\u001b[1;34m(self, token_ids, forced_bytes, current_temp)\u001b[0m\n\u001b[0;32m    200\u001b[0m \u001b[38;5;28;01mif\u001b[39;00m i \u001b[38;5;241m+\u001b[39m n_tokens \u001b[38;5;241m==\u001b[39m \u001b[38;5;28mlen\u001b[39m(token_ids):\n\u001b[0;32m    201\u001b[0m     batch\u001b[38;5;241m.\u001b[39mlogits[n_tokens \u001b[38;5;241m-\u001b[39m \u001b[38;5;241m1\u001b[39m] \u001b[38;5;241m=\u001b[39m \u001b[38;5;28;01mTrue\u001b[39;00m\n\u001b[1;32m--> 203\u001b[0m ret \u001b[38;5;241m=\u001b[39m \u001b[43mllama_cpp\u001b[49m\u001b[38;5;241;43m.\u001b[39;49m\u001b[43mllama_decode\u001b[49m\u001b[43m(\u001b[49m\u001b[38;5;28;43mself\u001b[39;49m\u001b[38;5;241;43m.\u001b[39;49m\u001b[43mmodel_obj\u001b[49m\u001b[38;5;241;43m.\u001b[39;49m\u001b[43mctx\u001b[49m\u001b[43m,\u001b[49m\u001b[43m \u001b[49m\u001b[43mbatch\u001b[49m\u001b[43m)\u001b[49m\n\u001b[0;32m    204\u001b[0m \u001b[38;5;28mself\u001b[39m\u001b[38;5;241m.\u001b[39mmetrics\u001b[38;5;241m.\u001b[39mengine_input_tokens \u001b[38;5;241m+\u001b[39m\u001b[38;5;241m=\u001b[39m n_tokens\n\u001b[0;32m    205\u001b[0m \u001b[38;5;28;01mif\u001b[39;00m ret \u001b[38;5;241m!=\u001b[39m \u001b[38;5;241m0\u001b[39m:\n",
      "\u001b[1;31mKeyboardInterrupt\u001b[0m: "
     ]
    }
   ],
   "source": [
    "with assistant():\n",
    "    banterbot8000 = llm + 'Hi there! Have a joke you want me to explain? Or just here for a laugh?'\n",
    "\n",
    "while True:\n",
    "    user_input = input('Talk to Banterbot8000: ')\n",
    "        \n",
    "    if user_input.lower() in ['exit', 'quit', '', 'bye']:\n",
    "        break\n",
    "    \n",
    "    with user():\n",
    "        banterbot8000 += user_input\n",
    "    \n",
    "    banterbot8000 += banter(user_input)\n",
    "    \n",
    "    sleep(1)"
   ]
  },
  {
   "cell_type": "code",
   "execution_count": 15,
   "metadata": {},
   "outputs": [
    {
     "data": {
      "text/plain": [
       "['too tired',\n",
       " 'dew tired',\n",
       " 'do tired',\n",
       " 'due tired',\n",
       " 'chew tired',\n",
       " 'coo tired',\n",
       " 'coup tired',\n",
       " 'leu tired',\n",
       " 'lieu tired',\n",
       " 'loo tired',\n",
       " 'pu tired',\n",
       " 'rue tired',\n",
       " 'sue tired',\n",
       " 'toot iron']"
      ]
     },
     "execution_count": 15,
     "metadata": {},
     "output_type": "execute_result"
    }
   ],
   "source": [
    "from src.homophones import get_homophones\n",
    "\n",
    "get_homophones('two tired')"
   ]
  },
  {
   "cell_type": "code",
   "execution_count": null,
   "metadata": {},
   "outputs": [
    {
     "data": {
      "text/html": [
       "<pre style='margin: 0px; padding: 0px; vertical-align: middle; padding-left: 8px; margin-left: -8px; border-radius: 0px; border-left: 1px solid rgba(127, 127, 127, 0.2); white-space: pre-wrap; font-family: ColfaxAI, Arial; font-size: 15px; line-height: 23px;'><div style='display: flex; border-bottom: 1px solid rgba(127, 127, 127, 0.2);  justify-content: center; align-items: center;'><div style='flex: 0 0 80px; opacity: 0.5;'>system</div><div style='flex-grow: 1; padding: 5px; padding-top: 10px; padding-bottom: 10px; margin-top: 0px; white-space: pre-wrap; margin-bottom: 0px;'>You are BanterBot 8000. You are goofy and love to tell jokes. You are humorous and concise.</div></div><div style='display: flex; border-bottom: 1px solid rgba(127, 127, 127, 0.2);  justify-content: center; align-items: center;'><div style='flex: 0 0 80px; opacity: 0.5;'>system</div><div style='flex-grow: 1; padding: 5px; padding-top: 10px; padding-bottom: 10px; margin-top: 0px; white-space: pre-wrap; margin-bottom: 0px;'>\n",
       "    Puns are jokes that play on the multiple meanings of words or the sounds of words that sound alike.\n",
       "    Which type of pun is &quot;guts&quot;? Is it humorous because it sounds like another word, or because it has multiple meanings?\n",
       "\n",
       "    Examples:\n",
       "    Q: What do you call a fake noodle? An impasta.\n",
       "    A: The pun &quot;impasta&quot; sounds like &quot;imposter.&quot;\n",
       "      \n",
       "    Q: I used to be a baker, but I couldn&#x27;t make enough dough.\n",
       "    A: The pun &quot;dough&quot; means both &quot;money&quot; and &quot;baking ingredient.&quot;\n",
       "</div></div><div style='display: flex; border-bottom: 1px solid rgba(127, 127, 127, 0.2);  justify-content: center; align-items: center;'><div style='flex: 0 0 80px; opacity: 0.5;'>user</div><div style='flex-grow: 1; padding: 5px; padding-top: 10px; padding-bottom: 10px; margin-top: 0px; white-space: pre-wrap; margin-bottom: 0px;'>Why didn&#x27;t the skeletons go skydiving? They didn&#x27;t have the guts</div></div><div style='display: flex; border-bottom: 1px solid rgba(127, 127, 127, 0.2);  justify-content: center; align-items: center;'><div style='flex: 0 0 80px; opacity: 0.5;'>assistant</div><div style='flex-grow: 1; padding: 5px; padding-top: 10px; padding-bottom: 10px; margin-top: 0px; white-space: pre-wrap; margin-bottom: 0px;'>A: The pun &quot;guts&quot;<span style='background-color: rgba(0.0, 165.0, 0, 0.15); border-radius: 3px;' title='1.0'> s</span></div></div><div style='display: flex; border-bottom: 1px solid rgba(127, 127, 127, 0.2);  justify-content: center; align-items: center;'><div style='flex: 0 0 80px; opacity: 0.5;'>user</div><div style='flex-grow: 1; padding: 5px; padding-top: 10px; padding-bottom: 10px; margin-top: 0px; white-space: pre-wrap; margin-bottom: 0px;'>makes sense</div></div></pre>"
      ],
      "text/plain": [
       "<IPython.core.display.HTML object>"
      ]
     },
     "metadata": {},
     "output_type": "display_data"
    }
   ],
   "source": [
    "from guidance import  select, gen, system\n",
    "\n",
    "explanation = '''\n",
    "    Puns are jokes that play on the multiple meanings of words or the sounds of words that sound alike.\n",
    "    Which type of pun is \"guts\"? Is it humorous because it sounds like another word, or because it has multiple meanings?\n",
    "\n",
    "    Examples:\n",
    "    Q: What do you call a fake noodle? An impasta.\n",
    "    A: The pun \"impasta\" sounds like \"imposter.\"\n",
    "      \n",
    "    Q: I used to be a baker, but I couldn't make enough dough.\n",
    "    A: The pun \"dough\" has two meanings \"money\" and \"baking ingredient.\"\n",
    "'''\n",
    "\n",
    "with system():\n",
    "    lm = llm + explanation\n",
    "\n",
    "with user():\n",
    "    lm += 'Why didn\\'t the skeletons go skydiving? They didn\\'t have the guts'\n",
    "    \n",
    "with assistant():\n",
    "    lm += 'A: The pun \"guts\" ' + select([\"m\", \"s\"])\n",
    "\n",
    "with user():\n",
    "    lm += 'makes sense'"
   ]
  }
 ],
 "metadata": {
  "kernelspec": {
   "display_name": "venv",
   "language": "python",
   "name": "python3"
  },
  "language_info": {
   "codemirror_mode": {
    "name": "ipython",
    "version": 3
   },
   "file_extension": ".py",
   "mimetype": "text/x-python",
   "name": "python",
   "nbconvert_exporter": "python",
   "pygments_lexer": "ipython3",
   "version": "3.10.11"
  }
 },
 "nbformat": 4,
 "nbformat_minor": 2
}
